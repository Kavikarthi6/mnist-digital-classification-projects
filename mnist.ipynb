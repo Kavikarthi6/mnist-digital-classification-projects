{
 "cells": [
  {
   "cell_type": "code",
   "execution_count": 1,
   "id": "80ac68a1-6dcf-4d77-b1d5-6a11d593cdab",
   "metadata": {},
   "outputs": [
    {
     "name": "stderr",
     "output_type": "stream",
     "text": [
      "C:\\Users\\MASANAMUTHU\\anaconda3\\lib\\site-packages\\scipy\\__init__.py:146: UserWarning: A NumPy version >=1.16.5 and <1.23.0 is required for this version of SciPy (detected version 1.26.4\n",
      "  warnings.warn(f\"A NumPy version >={np_minversion} and <{np_maxversion}\"\n"
     ]
    },
    {
     "name": "stdout",
     "output_type": "stream",
     "text": [
      "WARNING:tensorflow:From C:\\Users\\MASANAMUTHU\\anaconda3\\lib\\site-packages\\keras\\src\\losses.py:2976: The name tf.losses.sparse_softmax_cross_entropy is deprecated. Please use tf.compat.v1.losses.sparse_softmax_cross_entropy instead.\n",
      "\n"
     ]
    }
   ],
   "source": [
    "import numpy as np\n",
    "import pandas as pd\n",
    "import matplotlib.pyplot as plt\n",
    "import tensorflow as tf\n",
    "import warnings\n",
    "warnings.filterwarnings('ignore')"
   ]
  },
  {
   "cell_type": "code",
   "execution_count": 2,
   "id": "e8906bc8-7bac-4053-88aa-de927c9df414",
   "metadata": {},
   "outputs": [],
   "source": [
    "mnist=tf.keras.datasets.mnist"
   ]
  },
  {
   "cell_type": "code",
   "execution_count": 3,
   "id": "008f75b9-d88e-4f62-a218-fe59c7912cf4",
   "metadata": {},
   "outputs": [],
   "source": [
    "(x_train,y_train),(x_test,y_test)=mnist.load_data()"
   ]
  },
  {
   "cell_type": "code",
   "execution_count": 4,
   "id": "b6ff60de-35e2-417e-be97-0badade510a3",
   "metadata": {},
   "outputs": [
    {
     "name": "stdout",
     "output_type": "stream",
     "text": [
      "(60000, 28, 28) (60000,) (10000, 28, 28) (10000,)\n"
     ]
    }
   ],
   "source": [
    "print(x_train.shape,y_train.shape,x_test.shape,y_test.shape)"
   ]
  },
  {
   "cell_type": "code",
   "execution_count": 5,
   "id": "c3390a2a-8a1c-4313-b370-a4101ca7ca6e",
   "metadata": {},
   "outputs": [
    {
     "data": {
      "image/png": "[encoded data removed]",
      "text/plain": [
       "<Figure size 576x576 with 9 Axes>"
      ]
     },
     "metadata": {
      "needs_background": "light"
     },
     "output_type": "display_data"
    }
   ],
   "source": [
    "plt.figure(figsize=(8,8))\n",
    "for i in range(9):\n",
    "    plt.subplot(3,3,i+1)\n",
    "    plt.imshow(x_train[i])\n",
    "    plt.title(y_train[i])\n",
    "    plt.axis('off')"
   ]
  },
  {
   "cell_type": "code",
   "execution_count": 6,
   "id": "99ad777b-cdf6-403c-ac18-09b5f3bd52f8",
   "metadata": {},
   "outputs": [],
   "source": [
    "x_train=tf.keras.utils.normalize(x_train,axis=0)\n",
    "x_test=tf.keras.utils.normalize(x_test,axis=0)"
   ]
  },
  {
   "cell_type": "code",
   "execution_count": 7,
   "id": "da379c05-6472-4874-8fae-77d65ba9e307",
   "metadata": {},
   "outputs": [
    {
     "name": "stdout",
     "output_type": "stream",
     "text": [
      "WARNING:tensorflow:From C:\\Users\\MASANAMUTHU\\anaconda3\\lib\\site-packages\\keras\\src\\backend.py:873: The name tf.get_default_graph is deprecated. Please use tf.compat.v1.get_default_graph instead.\n",
      "\n"
     ]
    }
   ],
   "source": [
    "model=tf.keras.models.Sequential()\n",
    "model.add(tf.keras.layers.Flatten(input_shape=(28,28)))\n",
    "model.add(tf.keras.layers.Dense(128,activation='relu'))\n",
    "model.add(tf.keras.layers.Dense(64,activation='relu'))\n",
    "model.add(tf.keras.layers.Dense(32,activation='relu'))\n",
    "model.add(tf.keras.layers.Dense(10,activation='softmax'))"
   ]
  },
  {
   "cell_type": "code",
   "execution_count": 8,
   "id": "6014dfb8-b297-4c0e-aa2d-113f671eaf13",
   "metadata": {},
   "outputs": [
    {
     "name": "stdout",
     "output_type": "stream",
     "text": [
      "Model: \"sequential\"\n",
      "_________________________________________________________________\n",
      " Layer (type)                Output Shape              Param #   \n",
      "=================================================================\n",
      " flatten (Flatten)           (None, 784)               0         \n",
      "                                                                 \n",
      " dense (Dense)               (None, 128)               100480    \n",
      "                                                                 \n",
      " dense_1 (Dense)             (None, 64)                8256      \n",
      "                                                                 \n",
      " dense_2 (Dense)             (None, 32)                2080      \n",
      "                                                                 \n",
      " dense_3 (Dense)             (None, 10)                330       \n",
      "                                                                 \n",
      "=================================================================\n",
      "Total params: 111146 (434.16 KB)\n",
      "Trainable params: 111146 (434.16 KB)\n",
      "Non-trainable params: 0 (0.00 Byte)\n",
      "_________________________________________________________________\n"
     ]
    }
   ],
   "source": [
    "model.summary()"
   ]
  },
  {
   "cell_type": "code",
   "execution_count": 9,
   "id": "ae817061-370a-4a86-98aa-01e58d86a753",
   "metadata": {},
   "outputs": [
    {
     "name": "stdout",
     "output_type": "stream",
     "text": [
      "WARNING:tensorflow:From C:\\Users\\MASANAMUTHU\\anaconda3\\lib\\site-packages\\keras\\src\\optimizers\\__init__.py:309: The name tf.train.Optimizer is deprecated. Please use tf.compat.v1.train.Optimizer instead.\n",
      "\n"
     ]
    }
   ],
   "source": [
    "model.compile(optimizer='adam',\n",
    "              loss=tf.keras.losses.SparseCategoricalCrossentropy(from_logits=True),\n",
    "              metrics=['Accuracy'])"
   ]
  },
  {
   "cell_type": "code",
   "execution_count": 10,
   "id": "a5b148f3-9551-4168-bbca-0c1c586f1cd6",
   "metadata": {},
   "outputs": [
    {
     "name": "stdout",
     "output_type": "stream",
     "text": [
      "Epoch 1/15\n",
      "WARNING:tensorflow:From C:\\Users\\MASANAMUTHU\\anaconda3\\lib\\site-packages\\keras\\src\\utils\\tf_utils.py:492: The name tf.ragged.RaggedTensorValue is deprecated. Please use tf.compat.v1.ragged.RaggedTensorValue instead.\n",
      "\n",
      "WARNING:tensorflow:From C:\\Users\\MASANAMUTHU\\anaconda3\\lib\\site-packages\\keras\\src\\engine\\base_layer_utils.py:384: The name tf.executing_eagerly_outside_functions is deprecated. Please use tf.compat.v1.executing_eagerly_outside_functions instead.\n",
      "\n",
      "1875/1875 [==============================] - 10s 5ms/step - loss: 0.5845 - Accuracy: 0.8219 - val_loss: 0.4623 - val_Accuracy: 0.8928\n",
      "Epoch 2/15\n",
      "1875/1875 [==============================] - 7s 4ms/step - loss: 0.2623 - Accuracy: 0.9220 - val_loss: 0.3174 - val_Accuracy: 0.9257\n",
      "Epoch 3/15\n",
      "1875/1875 [==============================] - 10s 5ms/step - loss: 0.1928 - Accuracy: 0.9427 - val_loss: 0.2852 - val_Accuracy: 0.9372\n",
      "Epoch 4/15\n",
      "1875/1875 [==============================] - 12s 7ms/step - loss: 0.1500 - Accuracy: 0.9544 - val_loss: 0.2033 - val_Accuracy: 0.9569\n",
      "Epoch 5/15\n",
      "1875/1875 [==============================] - 13s 7ms/step - loss: 0.1226 - Accuracy: 0.9627 - val_loss: 0.2236 - val_Accuracy: 0.9532\n",
      "Epoch 6/15\n",
      "1875/1875 [==============================] - 16s 9ms/step - loss: 0.1025 - Accuracy: 0.9691 - val_loss: 0.2076 - val_Accuracy: 0.9569\n",
      "Epoch 7/15\n",
      "1875/1875 [==============================] - 17s 9ms/step - loss: 0.0867 - Accuracy: 0.9740 - val_loss: 0.1752 - val_Accuracy: 0.9667\n",
      "Epoch 8/15\n",
      "1875/1875 [==============================] - 20s 11ms/step - loss: 0.0746 - Accuracy: 0.9768 - val_loss: 0.1866 - val_Accuracy: 0.9653\n",
      "Epoch 9/15\n",
      "1875/1875 [==============================] - 20s 10ms/step - loss: 0.0635 - Accuracy: 0.9810 - val_loss: 0.1992 - val_Accuracy: 0.9658\n",
      "Epoch 10/15\n",
      "1875/1875 [==============================] - 19s 10ms/step - loss: 0.0551 - Accuracy: 0.9823 - val_loss: 0.1873 - val_Accuracy: 0.9692\n",
      "Epoch 11/15\n",
      "1875/1875 [==============================] - 15s 8ms/step - loss: 0.0472 - Accuracy: 0.9844 - val_loss: 0.2168 - val_Accuracy: 0.9654\n",
      "Epoch 12/15\n",
      "1875/1875 [==============================] - 15s 8ms/step - loss: 0.0421 - Accuracy: 0.9866 - val_loss: 0.2027 - val_Accuracy: 0.9675\n",
      "Epoch 13/15\n",
      "1875/1875 [==============================] - 13s 7ms/step - loss: 0.0370 - Accuracy: 0.9886 - val_loss: 0.2117 - val_Accuracy: 0.9684\n",
      "Epoch 14/15\n",
      "1875/1875 [==============================] - 13s 7ms/step - loss: 0.0328 - Accuracy: 0.9891 - val_loss: 0.2224 - val_Accuracy: 0.9663\n",
      "Epoch 15/15\n",
      "1875/1875 [==============================] - 13s 7ms/step - loss: 0.0285 - Accuracy: 0.9911 - val_loss: 0.2715 - val_Accuracy: 0.9647\n"
     ]
    },
    {
     "data": {
      "text/plain": [
       "<keras.src.callbacks.History at 0x18a1b48dd60>"
      ]
     },
     "execution_count": 10,
     "metadata": {},
     "output_type": "execute_result"
    }
   ],
   "source": [
    "model.fit(x_train,y_train,\n",
    "          validation_data=(x_test,y_test),\n",
    "          batch_size=32,\n",
    "          epochs=15)"
   ]
  },
  {
   "cell_type": "code",
   "execution_count": 15,
   "id": "83bbb29d-8c7d-4b7e-ae98-cf1d798ea577",
   "metadata": {},
   "outputs": [
    {
     "name": "stdout",
     "output_type": "stream",
     "text": [
      "1/1 [==============================] - 0s 31ms/step\n",
      "4\n"
     ]
    },
    {
     "data": {
      "image/png": "[encoded data removed]",
      "text/plain": [
       "<Figure size 432x288 with 1 Axes>"
      ]
     },
     "metadata": {
      "needs_background": "light"
     },
     "output_type": "display_data"
    }
   ],
   "source": [
    "import cv2\n",
    "image=cv2.imread('Downloads/ML/level1/4.png')[:,:,0]\n",
    "image=np.invert(np.array([image]))\n",
    "\n",
    "output= model.predict(image)\n",
    "plt.imshow(image[0])\n",
    "print(np.argmax(output))"
   ]
  },
  {
   "cell_type": "code",
   "execution_count": null,
   "id": "19af24ba-62ad-4ead-867e-5fcd518918c8",
   "metadata": {},
   "outputs": [],
   "source": []
  }
 ],
 "metadata": {
  "kernelspec": {
   "display_name": "Python 3 (ipykernel)",
   "language": "python",
   "name": "python3"
  },
  "language_info": {
   "codemirror_mode": {
    "name": "ipython",
    "version": 3
   },
   "file_extension": ".py",
   "mimetype": "text/x-python",
   "name": "python",
   "nbconvert_exporter": "python",
   "pygments_lexer": "ipython3",
   "version": "3.9.12"
  }
 },
 "nbformat": 4,
 "nbformat_minor": 5
}
